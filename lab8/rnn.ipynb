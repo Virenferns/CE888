{
  "cells": [
    {
      "cell_type": "markdown",
      "metadata": {
        "id": "view-in-github",
        "colab_type": "text"
      },
      "source": [
        "<a href=\"https://colab.research.google.com/github/Virenferns/CE888/blob/main/lab8/rnn.ipynb\" target=\"_parent\"><img src=\"https://colab.research.google.com/assets/colab-badge.svg\" alt=\"Open In Colab\"/></a>"
      ]
    },
    {
      "cell_type": "markdown",
      "source": [
        "# Learning from Sequences: Timeseries and Text\n",
        "\n",
        "Created by Dr Ana Matran-Fernandez (amatra@essex.ac.uk) for CE888 (Data Science and Decision Making)\n",
        "\n",
        "This notebook accompanies lecture 8 and illustrates recurrent neural networks on an example of a timeseries (predicting tomorrow's temperature) and a classification problem on the IMDB text dataset."
      ],
      "metadata": {
        "id": "gS1IIAS-bcb-"
      }
    },
    {
      "cell_type": "markdown",
      "source": [
        "# Imports"
      ],
      "metadata": {
        "id": "0myiQp20cxRK"
      }
    },
    {
      "cell_type": "code",
      "execution_count": null,
      "metadata": {
        "id": "1J0bYBQ7_a0L"
      },
      "outputs": [],
      "source": [
        "# imports\n",
        "import numpy as np\n",
        "import matplotlib.pyplot as plt\n",
        "import os\n",
        "import pandas as pd\n",
        "from sklearn.model_selection import train_test_split"
      ]
    },
    {
      "cell_type": "code",
      "execution_count": null,
      "metadata": {
        "id": "U0NPDv7X_a0M"
      },
      "outputs": [],
      "source": [
        "# tensorflow imports\n",
        "from tensorflow import keras\n",
        "from keras import layers, models\n",
        "from keras.callbacks import EarlyStopping, ModelCheckpoint"
      ]
    },
    {
      "cell_type": "markdown",
      "source": [
        "# Timeseries"
      ],
      "metadata": {
        "id": "xaiw_VZjbtSH"
      }
    },
    {
      "cell_type": "code",
      "execution_count": 14,
      "metadata": {
        "colab": {
          "base_uri": "https://localhost:8080/",
          "height": 424
        },
        "id": "iA_R1Q-K_a0N",
        "outputId": "ccd2fda3-f778-4ed7-df5a-014a8dd22900"
      },
      "outputs": [
        {
          "output_type": "execute_result",
          "data": {
            "text/plain": [
              "                  date  radiation_avg  precip  wind_avg  wind_max  temp_avg  \\\n",
              "0     14/05/2014 00:00            159     0.0       1.4       3.3     14.27   \n",
              "1     15/05/2014 00:00            280     0.0       0.6       2.3     13.51   \n",
              "2     16/05/2014 00:00            186     3.4       0.8       2.7     15.65   \n",
              "3     17/05/2014 00:00            221     0.0       1.0       3.3     17.46   \n",
              "4     18/05/2014 00:00            255     0.0       2.1       5.5     16.85   \n",
              "...                ...            ...     ...       ...       ...       ...   \n",
              "2551  17/05/2021 00:00            196     1.4       2.2       5.5     10.51   \n",
              "2552  17/05/2021 00:00            173     2.8       1.8       5.5     10.80   \n",
              "2553  18/05/2021 00:00            311     0.0       1.4       5.0     10.29   \n",
              "2554  19/05/2021 00:00            232     6.6       1.8       5.5     11.39   \n",
              "2555  20/05/2021 00:00             44     0.0       0.5       2.7      6.35   \n",
              "\n",
              "      humidity_avg  \n",
              "0            64.95  \n",
              "1            72.91  \n",
              "2            74.69  \n",
              "3            71.42  \n",
              "4            74.45  \n",
              "...            ...  \n",
              "2551         99.86  \n",
              "2552         99.86  \n",
              "2553         92.94  \n",
              "2554         90.32  \n",
              "2555         99.86  \n",
              "\n",
              "[2556 rows x 7 columns]"
            ],
            "text/html": [
              "\n",
              "  <div id=\"df-9a78de9e-cb02-409a-a17c-0ef2d4ef3477\">\n",
              "    <div class=\"colab-df-container\">\n",
              "      <div>\n",
              "<style scoped>\n",
              "    .dataframe tbody tr th:only-of-type {\n",
              "        vertical-align: middle;\n",
              "    }\n",
              "\n",
              "    .dataframe tbody tr th {\n",
              "        vertical-align: top;\n",
              "    }\n",
              "\n",
              "    .dataframe thead th {\n",
              "        text-align: right;\n",
              "    }\n",
              "</style>\n",
              "<table border=\"1\" class=\"dataframe\">\n",
              "  <thead>\n",
              "    <tr style=\"text-align: right;\">\n",
              "      <th></th>\n",
              "      <th>date</th>\n",
              "      <th>radiation_avg</th>\n",
              "      <th>precip</th>\n",
              "      <th>wind_avg</th>\n",
              "      <th>wind_max</th>\n",
              "      <th>temp_avg</th>\n",
              "      <th>humidity_avg</th>\n",
              "    </tr>\n",
              "  </thead>\n",
              "  <tbody>\n",
              "    <tr>\n",
              "      <th>0</th>\n",
              "      <td>14/05/2014 00:00</td>\n",
              "      <td>159</td>\n",
              "      <td>0.0</td>\n",
              "      <td>1.4</td>\n",
              "      <td>3.3</td>\n",
              "      <td>14.27</td>\n",
              "      <td>64.95</td>\n",
              "    </tr>\n",
              "    <tr>\n",
              "      <th>1</th>\n",
              "      <td>15/05/2014 00:00</td>\n",
              "      <td>280</td>\n",
              "      <td>0.0</td>\n",
              "      <td>0.6</td>\n",
              "      <td>2.3</td>\n",
              "      <td>13.51</td>\n",
              "      <td>72.91</td>\n",
              "    </tr>\n",
              "    <tr>\n",
              "      <th>2</th>\n",
              "      <td>16/05/2014 00:00</td>\n",
              "      <td>186</td>\n",
              "      <td>3.4</td>\n",
              "      <td>0.8</td>\n",
              "      <td>2.7</td>\n",
              "      <td>15.65</td>\n",
              "      <td>74.69</td>\n",
              "    </tr>\n",
              "    <tr>\n",
              "      <th>3</th>\n",
              "      <td>17/05/2014 00:00</td>\n",
              "      <td>221</td>\n",
              "      <td>0.0</td>\n",
              "      <td>1.0</td>\n",
              "      <td>3.3</td>\n",
              "      <td>17.46</td>\n",
              "      <td>71.42</td>\n",
              "    </tr>\n",
              "    <tr>\n",
              "      <th>4</th>\n",
              "      <td>18/05/2014 00:00</td>\n",
              "      <td>255</td>\n",
              "      <td>0.0</td>\n",
              "      <td>2.1</td>\n",
              "      <td>5.5</td>\n",
              "      <td>16.85</td>\n",
              "      <td>74.45</td>\n",
              "    </tr>\n",
              "    <tr>\n",
              "      <th>...</th>\n",
              "      <td>...</td>\n",
              "      <td>...</td>\n",
              "      <td>...</td>\n",
              "      <td>...</td>\n",
              "      <td>...</td>\n",
              "      <td>...</td>\n",
              "      <td>...</td>\n",
              "    </tr>\n",
              "    <tr>\n",
              "      <th>2551</th>\n",
              "      <td>17/05/2021 00:00</td>\n",
              "      <td>196</td>\n",
              "      <td>1.4</td>\n",
              "      <td>2.2</td>\n",
              "      <td>5.5</td>\n",
              "      <td>10.51</td>\n",
              "      <td>99.86</td>\n",
              "    </tr>\n",
              "    <tr>\n",
              "      <th>2552</th>\n",
              "      <td>17/05/2021 00:00</td>\n",
              "      <td>173</td>\n",
              "      <td>2.8</td>\n",
              "      <td>1.8</td>\n",
              "      <td>5.5</td>\n",
              "      <td>10.80</td>\n",
              "      <td>99.86</td>\n",
              "    </tr>\n",
              "    <tr>\n",
              "      <th>2553</th>\n",
              "      <td>18/05/2021 00:00</td>\n",
              "      <td>311</td>\n",
              "      <td>0.0</td>\n",
              "      <td>1.4</td>\n",
              "      <td>5.0</td>\n",
              "      <td>10.29</td>\n",
              "      <td>92.94</td>\n",
              "    </tr>\n",
              "    <tr>\n",
              "      <th>2554</th>\n",
              "      <td>19/05/2021 00:00</td>\n",
              "      <td>232</td>\n",
              "      <td>6.6</td>\n",
              "      <td>1.8</td>\n",
              "      <td>5.5</td>\n",
              "      <td>11.39</td>\n",
              "      <td>90.32</td>\n",
              "    </tr>\n",
              "    <tr>\n",
              "      <th>2555</th>\n",
              "      <td>20/05/2021 00:00</td>\n",
              "      <td>44</td>\n",
              "      <td>0.0</td>\n",
              "      <td>0.5</td>\n",
              "      <td>2.7</td>\n",
              "      <td>6.35</td>\n",
              "      <td>99.86</td>\n",
              "    </tr>\n",
              "  </tbody>\n",
              "</table>\n",
              "<p>2556 rows × 7 columns</p>\n",
              "</div>\n",
              "      <button class=\"colab-df-convert\" onclick=\"convertToInteractive('df-9a78de9e-cb02-409a-a17c-0ef2d4ef3477')\"\n",
              "              title=\"Convert this dataframe to an interactive table.\"\n",
              "              style=\"display:none;\">\n",
              "        \n",
              "  <svg xmlns=\"http://www.w3.org/2000/svg\" height=\"24px\"viewBox=\"0 0 24 24\"\n",
              "       width=\"24px\">\n",
              "    <path d=\"M0 0h24v24H0V0z\" fill=\"none\"/>\n",
              "    <path d=\"M18.56 5.44l.94 2.06.94-2.06 2.06-.94-2.06-.94-.94-2.06-.94 2.06-2.06.94zm-11 1L8.5 8.5l.94-2.06 2.06-.94-2.06-.94L8.5 2.5l-.94 2.06-2.06.94zm10 10l.94 2.06.94-2.06 2.06-.94-2.06-.94-.94-2.06-.94 2.06-2.06.94z\"/><path d=\"M17.41 7.96l-1.37-1.37c-.4-.4-.92-.59-1.43-.59-.52 0-1.04.2-1.43.59L10.3 9.45l-7.72 7.72c-.78.78-.78 2.05 0 2.83L4 21.41c.39.39.9.59 1.41.59.51 0 1.02-.2 1.41-.59l7.78-7.78 2.81-2.81c.8-.78.8-2.07 0-2.86zM5.41 20L4 18.59l7.72-7.72 1.47 1.35L5.41 20z\"/>\n",
              "  </svg>\n",
              "      </button>\n",
              "      \n",
              "  <style>\n",
              "    .colab-df-container {\n",
              "      display:flex;\n",
              "      flex-wrap:wrap;\n",
              "      gap: 12px;\n",
              "    }\n",
              "\n",
              "    .colab-df-convert {\n",
              "      background-color: #E8F0FE;\n",
              "      border: none;\n",
              "      border-radius: 50%;\n",
              "      cursor: pointer;\n",
              "      display: none;\n",
              "      fill: #1967D2;\n",
              "      height: 32px;\n",
              "      padding: 0 0 0 0;\n",
              "      width: 32px;\n",
              "    }\n",
              "\n",
              "    .colab-df-convert:hover {\n",
              "      background-color: #E2EBFA;\n",
              "      box-shadow: 0px 1px 2px rgba(60, 64, 67, 0.3), 0px 1px 3px 1px rgba(60, 64, 67, 0.15);\n",
              "      fill: #174EA6;\n",
              "    }\n",
              "\n",
              "    [theme=dark] .colab-df-convert {\n",
              "      background-color: #3B4455;\n",
              "      fill: #D2E3FC;\n",
              "    }\n",
              "\n",
              "    [theme=dark] .colab-df-convert:hover {\n",
              "      background-color: #434B5C;\n",
              "      box-shadow: 0px 1px 3px 1px rgba(0, 0, 0, 0.15);\n",
              "      filter: drop-shadow(0px 1px 2px rgba(0, 0, 0, 0.3));\n",
              "      fill: #FFFFFF;\n",
              "    }\n",
              "  </style>\n",
              "\n",
              "      <script>\n",
              "        const buttonEl =\n",
              "          document.querySelector('#df-9a78de9e-cb02-409a-a17c-0ef2d4ef3477 button.colab-df-convert');\n",
              "        buttonEl.style.display =\n",
              "          google.colab.kernel.accessAllowed ? 'block' : 'none';\n",
              "\n",
              "        async function convertToInteractive(key) {\n",
              "          const element = document.querySelector('#df-9a78de9e-cb02-409a-a17c-0ef2d4ef3477');\n",
              "          const dataTable =\n",
              "            await google.colab.kernel.invokeFunction('convertToInteractive',\n",
              "                                                     [key], {});\n",
              "          if (!dataTable) return;\n",
              "\n",
              "          const docLinkHtml = 'Like what you see? Visit the ' +\n",
              "            '<a target=\"_blank\" href=https://colab.research.google.com/notebooks/data_table.ipynb>data table notebook</a>'\n",
              "            + ' to learn more about interactive tables.';\n",
              "          element.innerHTML = '';\n",
              "          dataTable['output_type'] = 'display_data';\n",
              "          await google.colab.output.renderOutput(dataTable, element);\n",
              "          const docLink = document.createElement('div');\n",
              "          docLink.innerHTML = docLinkHtml;\n",
              "          element.appendChild(docLink);\n",
              "        }\n",
              "      </script>\n",
              "    </div>\n",
              "  </div>\n",
              "  "
            ]
          },
          "metadata": {},
          "execution_count": 14
        }
      ],
      "source": [
        "df = pd.read_csv('https://raw.githubusercontent.com/albanda/CE888/master/lab8/weather.csv')\n",
        "df.drop(['temp_max', 'temp_min'], axis=1, inplace=True)\n",
        "df"
      ]
    },
    {
      "cell_type": "code",
      "execution_count": 15,
      "metadata": {
        "colab": {
          "base_uri": "https://localhost:8080/",
          "height": 279
        },
        "id": "nzsytNAh_a0N",
        "outputId": "67e088a2-e561-4442-ae4d-4dc211c48948"
      },
      "outputs": [
        {
          "output_type": "display_data",
          "data": {
            "text/plain": [
              "<Figure size 432x288 with 1 Axes>"
            ],
            "image/png": "[encoded data removed]"
          },
          "metadata": {
            "needs_background": "light"
          }
        }
      ],
      "source": [
        "plt.plot(range(len(df)), df['temp_avg'])\n",
        "plt.xlabel('Temporal range')\n",
        "plt.ylabel('Average temperature (C) (7 years)')\n",
        "plt.savefig('temperature_over_time.pdf', bbox_inches='tight')"
      ]
    },
    {
      "cell_type": "code",
      "execution_count": 16,
      "metadata": {
        "colab": {
          "base_uri": "https://localhost:8080/",
          "height": 279
        },
        "id": "ysbM2n99_a0N",
        "outputId": "4a9d67f1-5c77-4eab-e1b4-00b5dfea8f19"
      },
      "outputs": [
        {
          "output_type": "display_data",
          "data": {
            "text/plain": [
              "<Figure size 432x288 with 1 Axes>"
            ],
            "image/png": "[encoded data removed]"
          },
          "metadata": {
            "needs_background": "light"
          }
        }
      ],
      "source": [
        "# Look at the first 2 years\n",
        "length = 2*365\n",
        "plt.plot(range(length), df['temp_avg'][:length])\n",
        "plt.xlabel('Temporal range')\n",
        "plt.ylabel('Average temperature (C) (2 years)')\n",
        "plt.savefig('temperature_over_time_2y.pdf', bbox_inches='tight')"
      ]
    },
    {
      "cell_type": "markdown",
      "metadata": {
        "id": "ikyqi2m7_a0O"
      },
      "source": [
        "We have clear periodicity every year. In the previous plot we saw 7 cycles (7 years). Here we see 2.\n",
        "\n",
        "Always look for periodicity in your timeseries. There will always be daily and yearly cycles. Check these patterns.\n",
        "\n",
        "Another issue with timeseries is dividing the dataset into train/validation/test sets. We definitely cannot shuffle the data, and we need to be very careful with data leakage (using data from the future)."
      ]
    },
    {
      "cell_type": "markdown",
      "metadata": {
        "id": "1fxuW2ne_a0P"
      },
      "source": [
        "## Data prep\n",
        "\n",
        "We'll try to predict the average temperature of tomorrow based on data from the past.\n",
        "\n",
        "To avoid data leakage, we're going to use a simple approach: use the first 50% of data for training, the next 30% for validation, and the final 20% for testing.\n"
      ]
    },
    {
      "cell_type": "code",
      "execution_count": 17,
      "metadata": {
        "colab": {
          "base_uri": "https://localhost:8080/"
        },
        "id": "vofGsYen_a0P",
        "outputId": "3a44de30-0b7c-44de-a5d7-2c5548432a86"
      },
      "outputs": [
        {
          "output_type": "stream",
          "name": "stdout",
          "text": [
            "Samples for training: 1278; validation: 766; test: 512\n"
          ]
        }
      ],
      "source": [
        "n_tr, n_val = int(0.5*len(df)), int(0.3*len(df))\n",
        "n_te = len(df) - n_tr - n_val\n",
        "print('Samples for training: %d; validation: %d; test: %d' % (n_tr, n_val, n_te))"
      ]
    },
    {
      "cell_type": "code",
      "execution_count": 18,
      "metadata": {
        "colab": {
          "base_uri": "https://localhost:8080/"
        },
        "id": "lsMDT2Jq_a0P",
        "outputId": "8b3e52ac-c763-447a-d291-02a5114fd518"
      },
      "outputs": [
        {
          "output_type": "stream",
          "name": "stdout",
          "text": [
            "(2556, 6)\n"
          ]
        }
      ],
      "source": [
        "# Get the data from the dataframe (dropping date column)\n",
        "data = df.iloc[:, 1:].values\n",
        "print(data.shape)\n",
        "assert data.shape[0] == len(df)\n",
        "assert data.shape[1] == len(df.columns)-1, \"Are you sure you're dropping the date?\"\n",
        "# We need to normalise our time series. Calculate mean and std from TRAINING DATA ONLY. \n",
        "# We'll use it on the validation and test sets.\n",
        "mean_tr = data[:n_tr, :].mean(axis=0)\n",
        "std_tr = data[:n_tr, :].std(axis=0)\n",
        "data = (data - mean_tr) / std_tr\n",
        "\n",
        "\n",
        "y = df['temp_avg'].values.reshape(-1, 1)\n",
        "\n",
        "# index of the column that contains the avg_temp\n",
        "y_idx = 4"
      ]
    },
    {
      "cell_type": "code",
      "source": [
        "data[:20, y_idx] * std_tr[y_idx] + mean_tr[y_idx]"
      ],
      "metadata": {
        "colab": {
          "base_uri": "https://localhost:8080/"
        },
        "id": "1VJAcdfICLi1",
        "outputId": "f0707a3b-c842-47da-861e-67383228ea97"
      },
      "execution_count": 19,
      "outputs": [
        {
          "output_type": "execute_result",
          "data": {
            "text/plain": [
              "array([14.27, 13.51, 15.65, 17.46, 16.85, 18.26, 17.35, 15.55, 14.52,\n",
              "       13.93, 11.48, 13.63, 12.81, 12.4 , 13.67, 14.15, 13.22, 12.21,\n",
              "       15.53, 14.52])"
            ]
          },
          "metadata": {},
          "execution_count": 19
        }
      ]
    },
    {
      "cell_type": "code",
      "source": [
        "y[5:25]"
      ],
      "metadata": {
        "colab": {
          "base_uri": "https://localhost:8080/"
        },
        "id": "xN-YJyEeCUv9",
        "outputId": "8fb4a5ff-e630-4588-e32a-8722bc59b2f4"
      },
      "execution_count": 20,
      "outputs": [
        {
          "output_type": "execute_result",
          "data": {
            "text/plain": [
              "array([[18.26],\n",
              "       [17.35],\n",
              "       [15.55],\n",
              "       [14.52],\n",
              "       [13.93],\n",
              "       [11.48],\n",
              "       [13.63],\n",
              "       [12.81],\n",
              "       [12.4 ],\n",
              "       [13.67],\n",
              "       [14.15],\n",
              "       [13.22],\n",
              "       [12.21],\n",
              "       [15.53],\n",
              "       [14.52],\n",
              "       [15.35],\n",
              "       [12.29],\n",
              "       [13.88],\n",
              "       [15.13],\n",
              "       [17.29]])"
            ]
          },
          "metadata": {},
          "execution_count": 20
        }
      ]
    },
    {
      "cell_type": "code",
      "execution_count": 21,
      "metadata": {
        "id": "K_JGeiAs_a0Q"
      },
      "outputs": [],
      "source": [
        "# We'll use a Dataset from keras to pass our data\n",
        "sampling_rate = 1  # we keep all data points\n",
        "sequence_length = 14  # 2 weeks to predict tomorrow's temperature\n",
        "delay = sampling_rate * sequence_length  # the target is the day after the end of the sequence\n",
        "batch_size = 16"
      ]
    },
    {
      "cell_type": "code",
      "execution_count": 22,
      "metadata": {
        "colab": {
          "base_uri": "https://localhost:8080/"
        },
        "id": "cRDGWNYl_a0Q",
        "outputId": "7152bd79-8629-4d7a-843f-644f72eb13f7"
      },
      "outputs": [
        {
          "output_type": "stream",
          "name": "stdout",
          "text": [
            "X shape: (16, 14, 6)\n",
            "target shape: (16, 1)\n"
          ]
        }
      ],
      "source": [
        "train_dataset = keras.utils.timeseries_dataset_from_array(\n",
        "    data[:-delay],\n",
        "    targets=y[delay:],\n",
        "    sampling_rate=sampling_rate, sequence_length=sequence_length,\n",
        "    batch_size=batch_size,\n",
        "    start_index=0, end_index=n_tr  # first 50% for training\n",
        "    )\n",
        "\n",
        "val_dataset = keras.utils.timeseries_dataset_from_array(\n",
        "    data[:-delay],\n",
        "    targets=y[delay:],\n",
        "    sampling_rate=sampling_rate, sequence_length=sequence_length,\n",
        "    batch_size=batch_size,\n",
        "    start_index=n_tr, end_index=n_tr+n_val  # 50%-80% for validation\n",
        "    )\n",
        "\n",
        "test_dataset = keras.utils.timeseries_dataset_from_array(\n",
        "    data[:-delay],\n",
        "    targets=y[delay:],\n",
        "    sampling_rate=sampling_rate, sequence_length=sequence_length,\n",
        "    batch_size=batch_size,\n",
        "    start_index=n_tr+n_val  # last 20% for test\n",
        "    )\n",
        "\n",
        "for X, target in train_dataset:\n",
        "    print(\"X shape:\", X.shape)\n",
        "    print(\"target shape:\", target.shape)\n",
        "    #print(X[:, :, y_idx] * std_tr[y_idx] + mean_tr[y_idx])\n",
        "    #print(target)\n",
        "    break  # so we only print once"
      ]
    },
    {
      "cell_type": "code",
      "source": [
        "# Function to plot history with neural networks\n",
        "def plot_hist_regression(hist, y):\n",
        "  n_ = len(hist.history['mae'])\n",
        "  plt.plot(range(1, n_+1), np.asarray(hist.history['mae']), 'bo', label='MAE on training set')\n",
        "  plt.plot(range(1, n_+1), np.asarray(hist.history['val_mae']), 'b', label='MAE on validation set')\n",
        "  plt.legend()\n",
        "  plt.xlabel(\"Epoch\") \n",
        "  plt.ylabel(\"MAE (degrees)\")\n",
        "  plt.axhline(y=y)\n",
        "  plt.show()\n"
      ],
      "metadata": {
        "id": "u_v2rAW_W4kQ"
      },
      "execution_count": 24,
      "outputs": []
    },
    {
      "cell_type": "markdown",
      "metadata": {
        "id": "WlhjIvZR_a0Q"
      },
      "source": [
        "## Establishing a baseline\n"
      ]
    },
    {
      "cell_type": "markdown",
      "source": [
        "### Common sense, no ML baseline\n",
        "\n",
        "- Sanity check\n",
        "- To establish whether ML methods are actually any good\n",
        "\n",
        "Tomorrow's temperature is likely to be close to today's: let's predict that the temperature 24 hours from now will be equal to the temperature right now.\n",
        "\n",
        "We'll use the MAE as metric"
      ],
      "metadata": {
        "id": "rloJamyvWPWj"
      }
    },
    {
      "cell_type": "code",
      "execution_count": 39,
      "metadata": {
        "colab": {
          "base_uri": "https://localhost:8080/"
        },
        "id": "MUY5acIf_a0Q",
        "outputId": "ab82cb80-267e-41df-863b-f8371e84f981"
      },
      "outputs": [
        {
          "output_type": "stream",
          "name": "stdout",
          "text": [
            "MAE on train set = 2.56 (degrees Celsius)\n",
            "MAE on validation set = 2.69 (degrees Celsius)\n",
            "MAE on test set = 2.85 (degrees Celsius)\n"
          ]
        }
      ],
      "source": [
        "def naive_method(dataset, mean, std):\n",
        "    error = 0\n",
        "    samples = 0\n",
        "    count = 0\n",
        "    for X, target in dataset:\n",
        "        pred = X[:, -1, y_idx] * std + mean  # predict last available temperature and un-standardise\n",
        "        #print(X.shape, target.shape, pred.shape)  # [batch_size, sequence_length, n_feats]\n",
        "        #print(X[:, -1, y_idx] * std + mean, target)\n",
        "        error += np.sum(np.abs(pred - target))\n",
        "        samples += X.shape[0]  # batch_size\n",
        "        count += 1\n",
        "    return error / samples / batch_size # average\n",
        "\n",
        "\n",
        "print('MAE on train set = %.2f (degrees Celsius)' % naive_method(train_dataset, mean_tr[y_idx], std_tr[y_idx]))\n",
        "print('MAE on validation set = %.2f (degrees Celsius)' % naive_method(val_dataset, mean_tr[y_idx], std_tr[y_idx]))\n",
        "print('MAE on test set = %.2f (degrees Celsius)' % naive_method(test_dataset, mean_tr[y_idx], std_tr[y_idx]))\n",
        "# Save MAE on validation for later\n",
        "baseline = naive_method(val_dataset, mean_tr[y_idx], std_tr[y_idx])"
      ]
    },
    {
      "cell_type": "markdown",
      "source": [
        "This baseline achieves a validation MAE of 2.69 degrees and a test MAE of 2.85 degrees. So if we assume that tomorrow's temperature will be the same as today's, we'll be off by less than 3 degrees on average.\n",
        "\n",
        "Not too bad, but surely we can do better!"
      ],
      "metadata": {
        "id": "znycUtxiJmAF"
      }
    },
    {
      "cell_type": "markdown",
      "metadata": {
        "id": "7c-duA1Z_a0R"
      },
      "source": [
        "### Simple ML baseline\n",
        "\n",
        "\n"
      ]
    },
    {
      "cell_type": "code",
      "source": [
        "# To get some practice with neural networks, we'll try a 1-layer NN with nothing fancy.\n",
        "\n",
        "model_dense = models.Sequential()\n",
        "model_dense.add(layers.Flatten(input_shape=(sequence_length, len(df.columns)-1)))  # we need to specify the input shape or we won't be able to see the summary\n",
        "model_dense.add(layers.Dense(10, activation='relu'))\n",
        "model_dense.add(layers.Dense(1))\n",
        "\n",
        "model_dense.summary()"
      ],
      "metadata": {
        "colab": {
          "base_uri": "https://localhost:8080/"
        },
        "id": "fWGqpICHJlRe",
        "outputId": "1846271e-f173-472e-b829-0dce27659aeb"
      },
      "execution_count": 40,
      "outputs": [
        {
          "output_type": "stream",
          "name": "stdout",
          "text": [
            "Model: \"sequential_3\"\n",
            "_________________________________________________________________\n",
            " Layer (type)                Output Shape              Param #   \n",
            "=================================================================\n",
            " flatten (Flatten)           (None, 84)                0         \n",
            "                                                                 \n",
            " dense_3 (Dense)             (None, 10)                850       \n",
            "                                                                 \n",
            " dense_4 (Dense)             (None, 1)                 11        \n",
            "                                                                 \n",
            "=================================================================\n",
            "Total params: 861\n",
            "Trainable params: 861\n",
            "Non-trainable params: 0\n",
            "_________________________________________________________________\n"
          ]
        }
      ]
    },
    {
      "cell_type": "code",
      "source": [
        "n_epochs = 20\n",
        "\n",
        "model_dense.compile(optimizer='rmsprop', loss='mse', metrics=['mae'])\n",
        "history_dense = model_dense.fit(train_dataset, epochs=n_epochs, validation_data=val_dataset)"
      ],
      "metadata": {
        "colab": {
          "base_uri": "https://localhost:8080/"
        },
        "id": "p0Hz1rX8LMfT",
        "outputId": "dc61a986-2c06-4123-8dcd-02a2f7ad5191"
      },
      "execution_count": 41,
      "outputs": [
        {
          "output_type": "stream",
          "name": "stdout",
          "text": [
            "Epoch 1/20\n",
            "80/80 [==============================] - 1s 9ms/step - loss: 150.9971 - mae: 11.4723 - val_loss: 130.7911 - val_mae: 10.5332\n",
            "Epoch 2/20\n",
            "80/80 [==============================] - 1s 8ms/step - loss: 120.2833 - mae: 10.1769 - val_loss: 101.9682 - val_mae: 9.3078\n",
            "Epoch 3/20\n",
            "80/80 [==============================] - 1s 8ms/step - loss: 90.7723 - mae: 8.8005 - val_loss: 75.7824 - val_mae: 7.9958\n",
            "Epoch 4/20\n",
            "80/80 [==============================] - 1s 8ms/step - loss: 65.6207 - mae: 7.3213 - val_loss: 55.9161 - val_mae: 6.6141\n",
            "Epoch 5/20\n",
            "80/80 [==============================] - 1s 7ms/step - loss: 49.4600 - mae: 6.1083 - val_loss: 45.0915 - val_mae: 5.7246\n",
            "Epoch 6/20\n",
            "80/80 [==============================] - 1s 8ms/step - loss: 41.7892 - mae: 5.4497 - val_loss: 39.0171 - val_mae: 5.2545\n",
            "Epoch 7/20\n",
            "80/80 [==============================] - 1s 7ms/step - loss: 36.9613 - mae: 5.0533 - val_loss: 34.2425 - val_mae: 4.8439\n",
            "Epoch 8/20\n",
            "80/80 [==============================] - 1s 9ms/step - loss: 32.9046 - mae: 4.7291 - val_loss: 30.5048 - val_mae: 4.4999\n",
            "Epoch 9/20\n",
            "80/80 [==============================] - 1s 8ms/step - loss: 29.8041 - mae: 4.4764 - val_loss: 28.0981 - val_mae: 4.2721\n",
            "Epoch 10/20\n",
            "80/80 [==============================] - 1s 9ms/step - loss: 27.6279 - mae: 4.3003 - val_loss: 26.6446 - val_mae: 4.1365\n",
            "Epoch 11/20\n",
            "80/80 [==============================] - 1s 8ms/step - loss: 26.0378 - mae: 4.1710 - val_loss: 25.6205 - val_mae: 4.0439\n",
            "Epoch 12/20\n",
            "80/80 [==============================] - 1s 17ms/step - loss: 24.7377 - mae: 4.0677 - val_loss: 24.7484 - val_mae: 3.9720\n",
            "Epoch 13/20\n",
            "80/80 [==============================] - 1s 13ms/step - loss: 23.5698 - mae: 3.9735 - val_loss: 23.8997 - val_mae: 3.9011\n",
            "Epoch 14/20\n",
            "80/80 [==============================] - 1s 13ms/step - loss: 22.4398 - mae: 3.8791 - val_loss: 23.0362 - val_mae: 3.8289\n",
            "Epoch 15/20\n",
            "80/80 [==============================] - 2s 23ms/step - loss: 21.3295 - mae: 3.7834 - val_loss: 22.1350 - val_mae: 3.7518\n",
            "Epoch 16/20\n",
            "80/80 [==============================] - 1s 15ms/step - loss: 20.2297 - mae: 3.6853 - val_loss: 21.2191 - val_mae: 3.6705\n",
            "Epoch 17/20\n",
            "80/80 [==============================] - 1s 12ms/step - loss: 19.1330 - mae: 3.5831 - val_loss: 20.2852 - val_mae: 3.5850\n",
            "Epoch 18/20\n",
            "80/80 [==============================] - 1s 18ms/step - loss: 18.0479 - mae: 3.4797 - val_loss: 19.3601 - val_mae: 3.4965\n",
            "Epoch 19/20\n",
            "80/80 [==============================] - 1s 7ms/step - loss: 16.9944 - mae: 3.3754 - val_loss: 18.4531 - val_mae: 3.4073\n",
            "Epoch 20/20\n",
            "80/80 [==============================] - 1s 9ms/step - loss: 15.9852 - mae: 3.2724 - val_loss: 17.5632 - val_mae: 3.3194\n"
          ]
        }
      ]
    },
    {
      "cell_type": "code",
      "source": [
        "# Plot MAE cures for validation and training\n",
        "plot_hist_regression(history_dense, baseline)"
      ],
      "metadata": {
        "colab": {
          "base_uri": "https://localhost:8080/",
          "height": 279
        },
        "id": "aBRYn-AKMCi4",
        "outputId": "8aa3201b-302a-498b-8187-d825a72367a8"
      },
      "execution_count": 42,
      "outputs": [
        {
          "output_type": "display_data",
          "data": {
            "text/plain": [
              "<Figure size 432x288 with 1 Axes>"
            ],
            "image/png": "[encoded data removed]"
          },
          "metadata": {
            "needs_background": "light"
          }
        }
      ]
    },
    {
      "cell_type": "markdown",
      "source": [
        "Validation loss is worse than what we had with our common-sense baseline, and we're already overfitting (MAE on training set is lower than on validation set). It turns out our previous baseline is not as easy to outperform as we thought!\n",
        "\n",
        "Remember our 'hypothesis space'? Using 2 Dense layers doesn't seem to be very useful in this case. We need other types of layers for this problem."
      ],
      "metadata": {
        "id": "1EJywOA5NJa9"
      }
    },
    {
      "cell_type": "code",
      "source": [
        "# We know that CNNs take advantage of neighbouring values, so why don't we try that?\n",
        "\n",
        "# In addition to the Conv2D layers we saw last week, there are Conv1D and Conv3D layers. \n",
        "# Conv1D layers rely on 1D windows that slide across an input sequence (imagine a 1D image)\n",
        "\n",
        "model_cnn = models.Sequential()\n",
        "model_cnn.add(layers.Conv1D(8, 7, activation='relu', input_shape=(sequence_length, len(df.columns)-1)))\n",
        "model_cnn.add(layers.MaxPooling1D(2))\n",
        "model_cnn.add(layers.Conv1D(8, 3, activation='relu'))\n",
        "model_cnn.add(layers.MaxPooling1D(2))\n",
        "model_cnn.add(layers.GlobalAveragePooling1D())\n",
        "model_cnn.add(layers.Dense(1))\n",
        "\n",
        "model_cnn.summary()"
      ],
      "metadata": {
        "colab": {
          "base_uri": "https://localhost:8080/"
        },
        "id": "k6PADykQPIjq",
        "outputId": "315ef75d-9c8a-46f7-de97-212b48e3c560"
      },
      "execution_count": 43,
      "outputs": [
        {
          "output_type": "stream",
          "name": "stdout",
          "text": [
            "Model: \"sequential_4\"\n",
            "_________________________________________________________________\n",
            " Layer (type)                Output Shape              Param #   \n",
            "=================================================================\n",
            " conv1d (Conv1D)             (None, 8, 8)              344       \n",
            "                                                                 \n",
            " max_pooling1d (MaxPooling1D  (None, 4, 8)             0         \n",
            " )                                                               \n",
            "                                                                 \n",
            " conv1d_1 (Conv1D)           (None, 2, 8)              200       \n",
            "                                                                 \n",
            " max_pooling1d_1 (MaxPooling  (None, 1, 8)             0         \n",
            " 1D)                                                             \n",
            "                                                                 \n",
            " global_average_pooling1d (G  (None, 8)                0         \n",
            " lobalAveragePooling1D)                                          \n",
            "                                                                 \n",
            " dense_5 (Dense)             (None, 1)                 9         \n",
            "                                                                 \n",
            "=================================================================\n",
            "Total params: 553\n",
            "Trainable params: 553\n",
            "Non-trainable params: 0\n",
            "_________________________________________________________________\n"
          ]
        }
      ]
    },
    {
      "cell_type": "code",
      "source": [
        "model_cnn.compile(optimizer='rmsprop', loss='mse', metrics=['mae'])\n",
        "history_cnn = model_cnn.fit(train_dataset, epochs=n_epochs,\n",
        "                            validation_data=val_dataset)"
      ],
      "metadata": {
        "colab": {
          "base_uri": "https://localhost:8080/"
        },
        "id": "PSGRJSulQs22",
        "outputId": "d9515614-294b-4091-a7a3-a08371e8be37"
      },
      "execution_count": 44,
      "outputs": [
        {
          "output_type": "stream",
          "name": "stdout",
          "text": [
            "Epoch 1/20\n",
            "80/80 [==============================] - 2s 10ms/step - loss: 137.2346 - mae: 10.6001 - val_loss: 111.1217 - val_mae: 9.3640\n",
            "Epoch 2/20\n",
            "80/80 [==============================] - 1s 8ms/step - loss: 93.5309 - mae: 8.6888 - val_loss: 67.1467 - val_mae: 7.3141\n",
            "Epoch 3/20\n",
            "80/80 [==============================] - 1s 8ms/step - loss: 50.6038 - mae: 6.2494 - val_loss: 33.0499 - val_mae: 4.8034\n",
            "Epoch 4/20\n",
            "80/80 [==============================] - 1s 10ms/step - loss: 29.9718 - mae: 4.4845 - val_loss: 23.0186 - val_mae: 3.8673\n",
            "Epoch 5/20\n",
            "80/80 [==============================] - 1s 8ms/step - loss: 22.7673 - mae: 3.8365 - val_loss: 18.1744 - val_mae: 3.3691\n",
            "Epoch 6/20\n",
            "80/80 [==============================] - 1s 10ms/step - loss: 17.8280 - mae: 3.3851 - val_loss: 16.7383 - val_mae: 3.1434\n",
            "Epoch 7/20\n",
            "80/80 [==============================] - 1s 10ms/step - loss: 15.0193 - mae: 3.0995 - val_loss: 16.7358 - val_mae: 3.0645\n",
            "Epoch 8/20\n",
            "80/80 [==============================] - 1s 10ms/step - loss: 13.5946 - mae: 2.9401 - val_loss: 16.6958 - val_mae: 3.0138\n",
            "Epoch 9/20\n",
            "80/80 [==============================] - 1s 10ms/step - loss: 12.7465 - mae: 2.8415 - val_loss: 16.5342 - val_mae: 2.9756\n",
            "Epoch 10/20\n",
            "80/80 [==============================] - 1s 8ms/step - loss: 12.1720 - mae: 2.7730 - val_loss: 16.3031 - val_mae: 2.9444\n",
            "Epoch 11/20\n",
            "80/80 [==============================] - 1s 8ms/step - loss: 11.6964 - mae: 2.7149 - val_loss: 15.9914 - val_mae: 2.9122\n",
            "Epoch 12/20\n",
            "80/80 [==============================] - 1s 8ms/step - loss: 11.3029 - mae: 2.6659 - val_loss: 15.6685 - val_mae: 2.8876\n",
            "Epoch 13/20\n",
            "80/80 [==============================] - 1s 10ms/step - loss: 10.9893 - mae: 2.6270 - val_loss: 15.3700 - val_mae: 2.8667\n",
            "Epoch 14/20\n",
            "80/80 [==============================] - 1s 8ms/step - loss: 10.7361 - mae: 2.5968 - val_loss: 15.0814 - val_mae: 2.8466\n",
            "Epoch 15/20\n",
            "80/80 [==============================] - 1s 10ms/step - loss: 10.5149 - mae: 2.5699 - val_loss: 14.8047 - val_mae: 2.8276\n",
            "Epoch 16/20\n",
            "80/80 [==============================] - 1s 8ms/step - loss: 10.3035 - mae: 2.5435 - val_loss: 14.5733 - val_mae: 2.8103\n",
            "Epoch 17/20\n",
            "80/80 [==============================] - 1s 10ms/step - loss: 10.1127 - mae: 2.5199 - val_loss: 14.3778 - val_mae: 2.7945\n",
            "Epoch 18/20\n",
            "80/80 [==============================] - 1s 9ms/step - loss: 9.9363 - mae: 2.4976 - val_loss: 14.1953 - val_mae: 2.7797\n",
            "Epoch 19/20\n",
            "80/80 [==============================] - 1s 10ms/step - loss: 9.7830 - mae: 2.4783 - val_loss: 14.0245 - val_mae: 2.7664\n",
            "Epoch 20/20\n",
            "80/80 [==============================] - 1s 10ms/step - loss: 9.6419 - mae: 2.4601 - val_loss: 13.8815 - val_mae: 2.7545\n"
          ]
        }
      ]
    },
    {
      "cell_type": "code",
      "source": [
        "# Plot MAE cures for validation and training\n",
        "plot_hist_regression(history_cnn, baseline)"
      ],
      "metadata": {
        "colab": {
          "base_uri": "https://localhost:8080/",
          "height": 283
        },
        "id": "6bB6lzLYSG-u",
        "outputId": "a989b746-3fdf-4297-c703-7bd8283c2bd5"
      },
      "execution_count": 45,
      "outputs": [
        {
          "output_type": "display_data",
          "data": {
            "text/plain": [
              "<Figure size 432x288 with 1 Axes>"
            ],
            "image/png": "[encoded data removed]"
          },
          "metadata": {
            "needs_background": "light"
          }
        }
      ]
    },
    {
      "cell_type": "markdown",
      "source": [
        "This model isn't any better, with a validation MAE of 2.77 degrees (also worse than the 'common-sense approach' that we tried at first), and we're overfitting a bit too.\n",
        "\n",
        "Why?\n",
        "\n",
        "In timeseries, order matters a lot: the recent past is more informative than data from 5 days ago, and convolutional layers don't take advantage of this fact -- max pooling and global average pooling layers actually destroy this order information."
      ],
      "metadata": {
        "id": "Kc2iMPSHViL1"
      }
    },
    {
      "cell_type": "markdown",
      "metadata": {
        "id": "3ozUAZX__a0R"
      },
      "source": [
        "## Long Short Term Memory (LSTM) Neural Networks\n",
        "\n",
        "\n"
      ]
    },
    {
      "cell_type": "code",
      "execution_count": 46,
      "metadata": {
        "id": "2dWfiaUw_a0R",
        "colab": {
          "base_uri": "https://localhost:8080/"
        },
        "outputId": "09ad2300-9546-4b52-d6e4-24cd38692331"
      },
      "outputs": [
        {
          "output_type": "stream",
          "name": "stdout",
          "text": [
            "Model: \"sequential_5\"\n",
            "_________________________________________________________________\n",
            " Layer (type)                Output Shape              Param #   \n",
            "=================================================================\n",
            " lstm_4 (LSTM)               (None, 20)                2160      \n",
            "                                                                 \n",
            " dense_6 (Dense)             (None, 1)                 21        \n",
            "                                                                 \n",
            "=================================================================\n",
            "Total params: 2,181\n",
            "Trainable params: 2,181\n",
            "Non-trainable params: 0\n",
            "_________________________________________________________________\n"
          ]
        }
      ],
      "source": [
        "# 1-layer LSTM\n",
        "\n",
        "model_lstm1 = models.Sequential()\n",
        "model_lstm1.add(layers.LSTM(20, input_shape=(sequence_length, len(df.columns)-1)))\n",
        "model_lstm1.add(layers.Dense(1))\n",
        "\n",
        "model_lstm1.summary()"
      ]
    },
    {
      "cell_type": "code",
      "source": [
        "n_epochs = 20"
      ],
      "metadata": {
        "id": "DMst2Mp0R0Xi"
      },
      "execution_count": 27,
      "outputs": []
    },
    {
      "cell_type": "code",
      "source": [
        "model_lstm1.compile(optimizer='rmsprop', loss='mse', metrics=['mae'])\n",
        "history_lstm1 = model_lstm1.fit(train_dataset, epochs=n_epochs,\n",
        "                            validation_data=val_dataset)"
      ],
      "metadata": {
        "colab": {
          "base_uri": "https://localhost:8080/"
        },
        "id": "Pff2tZQHXb-z",
        "outputId": "8bbd6277-cf91-4e1c-f5ee-2d2f016bccd9"
      },
      "execution_count": 28,
      "outputs": [
        {
          "output_type": "stream",
          "name": "stdout",
          "text": [
            "Epoch 1/20\n",
            "80/80 [==============================] - 4s 22ms/step - loss: 136.1690 - mae: 10.5904 - val_loss: 113.3399 - val_mae: 9.5937\n",
            "Epoch 2/20\n",
            "80/80 [==============================] - 1s 14ms/step - loss: 84.2933 - mae: 8.0525 - val_loss: 57.2078 - val_mae: 6.1109\n",
            "Epoch 3/20\n",
            "80/80 [==============================] - 1s 15ms/step - loss: 47.4563 - mae: 5.6641 - val_loss: 40.4608 - val_mae: 4.9621\n",
            "Epoch 4/20\n",
            "80/80 [==============================] - 1s 15ms/step - loss: 35.1862 - mae: 4.8285 - val_loss: 31.7560 - val_mae: 4.3812\n",
            "Epoch 5/20\n",
            "80/80 [==============================] - 1s 16ms/step - loss: 27.8665 - mae: 4.2866 - val_loss: 26.1377 - val_mae: 3.9961\n",
            "Epoch 6/20\n",
            "80/80 [==============================] - 1s 16ms/step - loss: 22.5857 - mae: 3.8528 - val_loss: 21.9527 - val_mae: 3.6887\n",
            "Epoch 7/20\n",
            "80/80 [==============================] - 2s 27ms/step - loss: 18.6490 - mae: 3.4998 - val_loss: 18.6509 - val_mae: 3.4101\n",
            "Epoch 8/20\n",
            "80/80 [==============================] - 1s 14ms/step - loss: 15.4692 - mae: 3.1804 - val_loss: 16.0420 - val_mae: 3.1620\n",
            "Epoch 9/20\n",
            "80/80 [==============================] - 1s 14ms/step - loss: 13.1172 - mae: 2.9124 - val_loss: 14.0657 - val_mae: 2.9619\n",
            "Epoch 10/20\n",
            "80/80 [==============================] - 2s 24ms/step - loss: 11.2148 - mae: 2.6807 - val_loss: 12.4815 - val_mae: 2.7996\n",
            "Epoch 11/20\n",
            "80/80 [==============================] - 1s 15ms/step - loss: 9.8022 - mae: 2.4986 - val_loss: 11.2518 - val_mae: 2.6705\n",
            "Epoch 12/20\n",
            "80/80 [==============================] - 1s 16ms/step - loss: 8.7105 - mae: 2.3506 - val_loss: 10.2664 - val_mae: 2.5582\n",
            "Epoch 13/20\n",
            "80/80 [==============================] - 1s 14ms/step - loss: 7.9009 - mae: 2.2356 - val_loss: 9.5196 - val_mae: 2.4710\n",
            "Epoch 14/20\n",
            "80/80 [==============================] - 1s 14ms/step - loss: 7.2487 - mae: 2.1444 - val_loss: 8.9205 - val_mae: 2.3972\n",
            "Epoch 15/20\n",
            "80/80 [==============================] - 1s 14ms/step - loss: 6.7694 - mae: 2.0761 - val_loss: 8.4636 - val_mae: 2.3417\n",
            "Epoch 16/20\n",
            "80/80 [==============================] - 1s 14ms/step - loss: 6.3834 - mae: 2.0186 - val_loss: 8.0835 - val_mae: 2.2916\n",
            "Epoch 17/20\n",
            "80/80 [==============================] - 1s 14ms/step - loss: 6.0969 - mae: 1.9738 - val_loss: 7.7887 - val_mae: 2.2481\n",
            "Epoch 18/20\n",
            "80/80 [==============================] - 1s 14ms/step - loss: 5.8316 - mae: 1.9306 - val_loss: 7.5173 - val_mae: 2.2058\n",
            "Epoch 19/20\n",
            "80/80 [==============================] - 1s 14ms/step - loss: 5.6337 - mae: 1.8965 - val_loss: 7.2982 - val_mae: 2.1707\n",
            "Epoch 20/20\n",
            "80/80 [==============================] - 1s 13ms/step - loss: 5.4290 - mae: 1.8629 - val_loss: 7.0862 - val_mae: 2.1360\n"
          ]
        }
      ]
    },
    {
      "cell_type": "code",
      "source": [
        "# Plot MAE cures for validation and training\n",
        "plot_hist_regression(history_lstm1, baseline)\n"
      ],
      "metadata": {
        "colab": {
          "base_uri": "https://localhost:8080/",
          "height": 279
        },
        "id": "hr-bgDUvXmvS",
        "outputId": "382b8715-dfb0-4cda-898c-b2a046b217a3"
      },
      "execution_count": 29,
      "outputs": [
        {
          "output_type": "display_data",
          "data": {
            "text/plain": [
              "<Figure size 432x288 with 1 Axes>"
            ],
            "image/png": "[encoded data removed]"
          },
          "metadata": {
            "needs_background": "light"
          }
        }
      ]
    },
    {
      "cell_type": "code",
      "source": [
        "print('Test MAE = %.2f degrees' % model_lstm1.evaluate(test_dataset)[1])"
      ],
      "metadata": {
        "colab": {
          "base_uri": "https://localhost:8080/"
        },
        "id": "0fFZvXXUcQ67",
        "outputId": "1fe2d543-c2ce-4047-fb21-8aa215d7663d"
      },
      "execution_count": 30,
      "outputs": [
        {
          "output_type": "stream",
          "name": "stdout",
          "text": [
            "31/31 [==============================] - 0s 6ms/step - loss: 7.7933 - mae: 2.1784\n",
            "Test MAE = 2.18 degrees\n"
          ]
        }
      ]
    },
    {
      "cell_type": "markdown",
      "source": [
        "Success! We finally beat the common-sense baseline! The validation MAE now is 2.12 degrees, and the test MAE is 2.27.\n",
        "\n",
        "Why do LSTM layers work? Let's go back to the slides"
      ],
      "metadata": {
        "id": "bYSWwI1aXvwL"
      }
    },
    {
      "cell_type": "code",
      "source": [
        "# Adding dropout\n",
        "\n",
        "model_lstm2 = models.Sequential()\n",
        "model_lstm2.add(layers.LSTM(20, input_shape=(sequence_length, len(df.columns)-1), recurrent_dropout=0.25))\n",
        "model_lstm2.add(layers.Dropout(0.4))\n",
        "model_lstm2.add(layers.Dense(1))\n",
        "\n",
        "model_lstm2.summary()"
      ],
      "metadata": {
        "id": "acSYakeOcokB",
        "colab": {
          "base_uri": "https://localhost:8080/"
        },
        "outputId": "83b48d41-d9f2-4c81-fee1-a13ddf529357"
      },
      "execution_count": 31,
      "outputs": [
        {
          "output_type": "stream",
          "name": "stdout",
          "text": [
            "Model: \"sequential_1\"\n",
            "_________________________________________________________________\n",
            " Layer (type)                Output Shape              Param #   \n",
            "=================================================================\n",
            " lstm_1 (LSTM)               (None, 20)                2160      \n",
            "                                                                 \n",
            " dropout (Dropout)           (None, 20)                0         \n",
            "                                                                 \n",
            " dense_1 (Dense)             (None, 1)                 21        \n",
            "                                                                 \n",
            "=================================================================\n",
            "Total params: 2,181\n",
            "Trainable params: 2,181\n",
            "Non-trainable params: 0\n",
            "_________________________________________________________________\n"
          ]
        }
      ]
    },
    {
      "cell_type": "code",
      "source": [
        "model_lstm2.compile(optimizer='rmsprop', loss='mse', metrics=['mae'])\n",
        "history_lstm2 = model_lstm2.fit(train_dataset, epochs=n_epochs,\n",
        "                            validation_data=val_dataset)"
      ],
      "metadata": {
        "colab": {
          "base_uri": "https://localhost:8080/"
        },
        "id": "LvRnf9TWSWf9",
        "outputId": "7c41267a-841b-4bfa-d7b2-73a6cfb1cefe"
      },
      "execution_count": 32,
      "outputs": [
        {
          "output_type": "stream",
          "name": "stdout",
          "text": [
            "Epoch 1/20\n",
            "80/80 [==============================] - 4s 23ms/step - loss: 137.2193 - mae: 10.6843 - val_loss: 119.2015 - val_mae: 9.8281\n",
            "Epoch 2/20\n",
            "80/80 [==============================] - 2s 20ms/step - loss: 97.1439 - mae: 8.8371 - val_loss: 68.6320 - val_mae: 7.0381\n",
            "Epoch 3/20\n",
            "80/80 [==============================] - 2s 21ms/step - loss: 53.9240 - mae: 6.0600 - val_loss: 41.6931 - val_mae: 5.0806\n",
            "Epoch 4/20\n",
            "80/80 [==============================] - 2s 20ms/step - loss: 37.7420 - mae: 5.0149 - val_loss: 31.9520 - val_mae: 4.4402\n",
            "Epoch 5/20\n",
            "80/80 [==============================] - 2s 20ms/step - loss: 30.5262 - mae: 4.4826 - val_loss: 25.9632 - val_mae: 4.0144\n",
            "Epoch 6/20\n",
            "80/80 [==============================] - 2s 20ms/step - loss: 24.5515 - mae: 3.9781 - val_loss: 22.0886 - val_mae: 3.7308\n",
            "Epoch 7/20\n",
            "80/80 [==============================] - 2s 20ms/step - loss: 21.6087 - mae: 3.6851 - val_loss: 18.6665 - val_mae: 3.4205\n",
            "Epoch 8/20\n",
            "80/80 [==============================] - 2s 21ms/step - loss: 18.8425 - mae: 3.4663 - val_loss: 15.8624 - val_mae: 3.1377\n",
            "Epoch 9/20\n",
            "80/80 [==============================] - 2s 19ms/step - loss: 17.4868 - mae: 3.3322 - val_loss: 14.1177 - val_mae: 2.9693\n",
            "Epoch 10/20\n",
            "80/80 [==============================] - 2s 20ms/step - loss: 15.6038 - mae: 3.1185 - val_loss: 12.4690 - val_mae: 2.7959\n",
            "Epoch 11/20\n",
            "80/80 [==============================] - 2s 20ms/step - loss: 14.1088 - mae: 3.0144 - val_loss: 11.2820 - val_mae: 2.6644\n",
            "Epoch 12/20\n",
            "80/80 [==============================] - 2s 20ms/step - loss: 13.5358 - mae: 2.9029 - val_loss: 10.3409 - val_mae: 2.5567\n",
            "Epoch 13/20\n",
            "80/80 [==============================] - 2s 19ms/step - loss: 12.8954 - mae: 2.8460 - val_loss: 9.7442 - val_mae: 2.4946\n",
            "Epoch 14/20\n",
            "80/80 [==============================] - 2s 20ms/step - loss: 11.4907 - mae: 2.6960 - val_loss: 9.0555 - val_mae: 2.4044\n",
            "Epoch 15/20\n",
            "80/80 [==============================] - 2s 29ms/step - loss: 11.6302 - mae: 2.7024 - val_loss: 8.5143 - val_mae: 2.3301\n",
            "Epoch 16/20\n",
            "80/80 [==============================] - 2s 19ms/step - loss: 11.3587 - mae: 2.6743 - val_loss: 8.2779 - val_mae: 2.3012\n",
            "Epoch 17/20\n",
            "80/80 [==============================] - 2s 22ms/step - loss: 11.1816 - mae: 2.6687 - val_loss: 7.8899 - val_mae: 2.2470\n",
            "Epoch 18/20\n",
            "80/80 [==============================] - 2s 21ms/step - loss: 11.0450 - mae: 2.6485 - val_loss: 7.7300 - val_mae: 2.2318\n",
            "Epoch 19/20\n",
            "80/80 [==============================] - 2s 21ms/step - loss: 11.0398 - mae: 2.6378 - val_loss: 7.5902 - val_mae: 2.2162\n",
            "Epoch 20/20\n",
            "80/80 [==============================] - 2s 21ms/step - loss: 10.1247 - mae: 2.5377 - val_loss: 7.3818 - val_mae: 2.1895\n"
          ]
        }
      ]
    },
    {
      "cell_type": "code",
      "source": [
        "# Plot MAE cures for validation and training\n",
        "plot_hist_regression(history_lstm2, baseline)"
      ],
      "metadata": {
        "colab": {
          "base_uri": "https://localhost:8080/",
          "height": 279
        },
        "id": "cWpm-j9iSck1",
        "outputId": "56cb49db-1a1c-43a0-9b58-35b1dd2182a4"
      },
      "execution_count": 33,
      "outputs": [
        {
          "output_type": "display_data",
          "data": {
            "text/plain": [
              "<Figure size 432x288 with 1 Axes>"
            ],
            "image/png": "[encoded data removed]"
          },
          "metadata": {
            "needs_background": "light"
          }
        }
      ]
    },
    {
      "cell_type": "code",
      "source": [
        "print('Test MAE = %.2f degrees' % model_lstm2.evaluate(test_dataset)[1])"
      ],
      "metadata": {
        "colab": {
          "base_uri": "https://localhost:8080/"
        },
        "id": "rAIQrQDVSmSM",
        "outputId": "fd82005a-420d-4dfc-c859-8e5c23ae70be"
      },
      "execution_count": 34,
      "outputs": [
        {
          "output_type": "stream",
          "name": "stdout",
          "text": [
            "31/31 [==============================] - 0s 6ms/step - loss: 8.2359 - mae: 2.2404\n",
            "Test MAE = 2.24 degrees\n"
          ]
        }
      ]
    },
    {
      "cell_type": "markdown",
      "source": [
        "Note that validation set MAE is now lower than MAE on training set -- no longer overfitting. Validation MAE is 2.16 and test MAE is also 2.16.\n",
        "\n",
        "NOTE: This is a very simple dataset with very small differences in performance between different models.  You'll just have to take my word for it that *in general* this approach works. "
      ],
      "metadata": {
        "id": "H3OrpvE3S4gM"
      }
    },
    {
      "cell_type": "code",
      "source": [
        "# Performance in the previous figure can (maybe) still be improved\n",
        "# Let's try to add some more layers -- we can do this now that we're no longer overfitting\n",
        "\n",
        "model_lstm3 = models.Sequential()\n",
        "model_lstm3.add(layers.LSTM(20, input_shape=(sequence_length, len(df.columns)-1), recurrent_dropout=0.25, return_sequences=True))  # NEW!\n",
        "model_lstm3.add(layers.LSTM(20, input_shape=(sequence_length, len(df.columns)-1), recurrent_dropout=0.25))  # NEW!!\n",
        "model_lstm3.add(layers.Dropout(0.4))\n",
        "model_lstm3.add(layers.Dense(1))\n",
        "model_lstm3.summary()"
      ],
      "metadata": {
        "colab": {
          "base_uri": "https://localhost:8080/"
        },
        "id": "jq_ZDTttTX6_",
        "outputId": "3573f468-82ee-431f-a4d4-3a88fe9abb59"
      },
      "execution_count": 35,
      "outputs": [
        {
          "output_type": "stream",
          "name": "stdout",
          "text": [
            "Model: \"sequential_2\"\n",
            "_________________________________________________________________\n",
            " Layer (type)                Output Shape              Param #   \n",
            "=================================================================\n",
            " lstm_2 (LSTM)               (None, 14, 20)            2160      \n",
            "                                                                 \n",
            " lstm_3 (LSTM)               (None, 20)                3280      \n",
            "                                                                 \n",
            " dropout_1 (Dropout)         (None, 20)                0         \n",
            "                                                                 \n",
            " dense_2 (Dense)             (None, 1)                 21        \n",
            "                                                                 \n",
            "=================================================================\n",
            "Total params: 5,461\n",
            "Trainable params: 5,461\n",
            "Non-trainable params: 0\n",
            "_________________________________________________________________\n"
          ]
        }
      ]
    },
    {
      "cell_type": "code",
      "source": [
        "model_lstm3.compile(optimizer='rmsprop', loss='mse', metrics=['mae'])\n",
        "\n",
        "callbacks = [EarlyStopping(monitor='val_mae', patience=2)]\n",
        "\n",
        "history_lstm3 = model_lstm3.fit(train_dataset, epochs=60,  # increased number of epochs\n",
        "                            validation_data=val_dataset,\n",
        "                            callbacks=callbacks)  # but added early stopping callback\n"
      ],
      "metadata": {
        "colab": {
          "base_uri": "https://localhost:8080/"
        },
        "id": "9xQXChtNUxzh",
        "outputId": "ed56105a-2c4a-4641-c5a5-2347e0e14255"
      },
      "execution_count": 36,
      "outputs": [
        {
          "output_type": "stream",
          "name": "stdout",
          "text": [
            "Epoch 1/60\n",
            "80/80 [==============================] - 8s 38ms/step - loss: 126.3535 - mae: 9.9877 - val_loss: 89.7788 - val_mae: 7.9789\n",
            "Epoch 2/60\n",
            "80/80 [==============================] - 3s 31ms/step - loss: 73.4663 - mae: 7.2263 - val_loss: 57.0514 - val_mae: 6.0206\n",
            "Epoch 3/60\n",
            "80/80 [==============================] - 3s 36ms/step - loss: 52.3060 - mae: 5.9868 - val_loss: 44.8533 - val_mae: 5.2765\n",
            "Epoch 4/60\n",
            "80/80 [==============================] - 3s 32ms/step - loss: 42.9732 - mae: 5.3647 - val_loss: 37.2952 - val_mae: 4.8233\n",
            "Epoch 5/60\n",
            "80/80 [==============================] - 3s 33ms/step - loss: 35.4603 - mae: 4.8326 - val_loss: 30.5831 - val_mae: 4.3552\n",
            "Epoch 6/60\n",
            "80/80 [==============================] - 3s 33ms/step - loss: 28.1601 - mae: 4.3039 - val_loss: 26.0728 - val_mae: 4.0557\n",
            "Epoch 7/60\n",
            "80/80 [==============================] - 3s 32ms/step - loss: 25.1590 - mae: 4.0101 - val_loss: 23.2351 - val_mae: 3.8842\n",
            "Epoch 8/60\n",
            "80/80 [==============================] - 3s 33ms/step - loss: 22.8043 - mae: 3.8092 - val_loss: 19.6196 - val_mae: 3.5427\n",
            "Epoch 9/60\n",
            "80/80 [==============================] - 3s 32ms/step - loss: 19.7837 - mae: 3.5295 - val_loss: 17.4584 - val_mae: 3.3401\n",
            "Epoch 10/60\n",
            "80/80 [==============================] - 3s 32ms/step - loss: 18.8322 - mae: 3.4326 - val_loss: 15.7020 - val_mae: 3.1702\n",
            "Epoch 11/60\n",
            "80/80 [==============================] - 3s 35ms/step - loss: 16.3415 - mae: 3.2522 - val_loss: 13.6070 - val_mae: 2.9323\n",
            "Epoch 12/60\n",
            "80/80 [==============================] - 3s 32ms/step - loss: 15.4016 - mae: 3.0819 - val_loss: 13.0167 - val_mae: 2.8906\n",
            "Epoch 13/60\n",
            "80/80 [==============================] - 3s 33ms/step - loss: 13.4940 - mae: 2.9118 - val_loss: 11.1435 - val_mae: 2.6522\n",
            "Epoch 14/60\n",
            "80/80 [==============================] - 3s 32ms/step - loss: 12.5510 - mae: 2.8066 - val_loss: 11.2460 - val_mae: 2.6923\n",
            "Epoch 15/60\n",
            "80/80 [==============================] - 3s 33ms/step - loss: 12.1353 - mae: 2.8136 - val_loss: 10.6525 - val_mae: 2.6194\n",
            "Epoch 16/60\n",
            "80/80 [==============================] - 3s 32ms/step - loss: 12.3508 - mae: 2.7966 - val_loss: 9.7668 - val_mae: 2.5051\n",
            "Epoch 17/60\n",
            "80/80 [==============================] - 3s 36ms/step - loss: 12.5044 - mae: 2.8289 - val_loss: 9.5301 - val_mae: 2.4773\n",
            "Epoch 18/60\n",
            "80/80 [==============================] - 3s 37ms/step - loss: 11.5659 - mae: 2.6992 - val_loss: 9.1680 - val_mae: 2.4317\n",
            "Epoch 19/60\n",
            "80/80 [==============================] - 3s 33ms/step - loss: 10.8048 - mae: 2.6154 - val_loss: 8.8308 - val_mae: 2.3876\n",
            "Epoch 20/60\n",
            "80/80 [==============================] - 3s 35ms/step - loss: 9.9397 - mae: 2.5254 - val_loss: 9.3480 - val_mae: 2.4584\n",
            "Epoch 21/60\n",
            "80/80 [==============================] - 3s 34ms/step - loss: 10.5662 - mae: 2.5835 - val_loss: 8.3346 - val_mae: 2.3210\n",
            "Epoch 22/60\n",
            "80/80 [==============================] - 3s 34ms/step - loss: 10.3688 - mae: 2.6070 - val_loss: 8.3159 - val_mae: 2.3177\n",
            "Epoch 23/60\n",
            "80/80 [==============================] - 3s 32ms/step - loss: 11.0988 - mae: 2.6409 - val_loss: 7.7923 - val_mae: 2.2308\n",
            "Epoch 24/60\n",
            "80/80 [==============================] - 3s 33ms/step - loss: 9.7862 - mae: 2.4658 - val_loss: 6.9980 - val_mae: 2.1107\n",
            "Epoch 25/60\n",
            "80/80 [==============================] - 3s 32ms/step - loss: 9.5155 - mae: 2.4211 - val_loss: 7.3916 - val_mae: 2.1670\n",
            "Epoch 26/60\n",
            "80/80 [==============================] - 3s 32ms/step - loss: 9.6794 - mae: 2.4909 - val_loss: 7.1126 - val_mae: 2.1303\n"
          ]
        }
      ]
    },
    {
      "cell_type": "code",
      "source": [
        "# Plot MAE cures for validation and training\n",
        "plot_hist_regression(history_lstm3, baseline)\n",
        "print('Test MAE = %.2f degrees' % model_lstm3.evaluate(test_dataset)[1])"
      ],
      "metadata": {
        "colab": {
          "base_uri": "https://localhost:8080/",
          "height": 314
        },
        "id": "PtFfB3YaU4k3",
        "outputId": "85f06867-f0c5-43a6-88a3-dbab7dd09ee3"
      },
      "execution_count": 37,
      "outputs": [
        {
          "output_type": "display_data",
          "data": {
            "text/plain": [
              "<Figure size 432x288 with 1 Axes>"
            ],
            "image/png": "[encoded data removed]"
          },
          "metadata": {
            "needs_background": "light"
          }
        },
        {
          "output_type": "stream",
          "name": "stdout",
          "text": [
            "31/31 [==============================] - 0s 9ms/step - loss: 7.5475 - mae: 2.1227\n",
            "Test MAE = 2.12 degrees\n"
          ]
        }
      ]
    },
    {
      "cell_type": "markdown",
      "source": [
        "Validation MAE = 1.92 degrees\n",
        "\n",
        "Test MAE = 1.89 degrees\n"
      ],
      "metadata": {
        "id": "eUJqRqp1XJnL"
      }
    },
    {
      "cell_type": "markdown",
      "source": [
        "# Text"
      ],
      "metadata": {
        "id": "zGEuNqw2csXj"
      }
    },
    {
      "cell_type": "markdown",
      "source": [
        "## Data prep\n",
        "\n",
        "We'll try to predict whether the review for a movie is positive or negative looking only at the text of the review.\n",
        "\n",
        "We'll use the IMDB text dataset for this task, which is available on `keras.datasets` and described [here](https://keras.io/api/datasets/imdb/). \n",
        "\n",
        "We'll merge the training and test sets and use 60% for training, 20% for validation, and 20% for testing.\n",
        "\n",
        "\n",
        "As this is a binary classificationp problem, we'll use the binary cross entropy loss function. We will keep track of accuracy when training and evaluating the model.\n"
      ],
      "metadata": {
        "id": "dtv0EjsTbwvm"
      }
    },
    {
      "cell_type": "code",
      "source": [
        "def plot_hist_classif(hist):\n",
        "  n_ = len(hist.history['accuracy'])\n",
        "  plt.plot(range(1, n_+1), 100*np.asarray(hist.history['accuracy']), 'bo', label='Accuracy on training set')\n",
        "  plt.plot(range(1, n_+1), 100*np.asarray(hist.history['val_accuracy']), 'b', label='Accuracy on validation set')\n",
        "  plt.legend()\n",
        "  plt.xlabel(\"Epoch\") \n",
        "  plt.ylabel(\"Accuracy\")\n",
        "  plt.ylim(0, 100)\n",
        "  plt.axhline(y=50)\n",
        "  plt.show()\n"
      ],
      "metadata": {
        "id": "i-mH-8IGwGo1"
      },
      "execution_count": 38,
      "outputs": []
    },
    {
      "cell_type": "code",
      "source": [
        "max_features = 15000  # only consider the top 15k words\n",
        "maxlen = 500  # first 500 words of each review\n",
        "batch_size = 32\n",
        "\n",
        "print('Loading data...')\n",
        "# Load dataset\n",
        "(x_train, y_train), (x_test, y_test) = keras.datasets.imdb.load_data(num_words=max_features)\n",
        "print(len(x_train), 'train sequences', x_train.shape)\n",
        "print(len(x_test), 'test sequences', x_test.shape)"
      ],
      "metadata": {
        "colab": {
          "base_uri": "https://localhost:8080/"
        },
        "id": "4TW3Vg49n5V-",
        "outputId": "9f5048ac-ddf2-46fe-e51a-f48d62863fbf"
      },
      "execution_count": 48,
      "outputs": [
        {
          "output_type": "stream",
          "name": "stdout",
          "text": [
            "Loading data...\n",
            "Downloading data from https://storage.googleapis.com/tensorflow/tf-keras-datasets/imdb.npz\n",
            "17465344/17464789 [==============================] - 0s 0us/step\n",
            "17473536/17464789 [==============================] - 0s 0us/step\n",
            "25000 train sequences (25000,)\n",
            "25000 test sequences (25000,)\n"
          ]
        }
      ]
    },
    {
      "cell_type": "code",
      "source": [
        "# How balanced is this dataset?\n",
        "print(np.sum(y_train)/len(y_train))\n",
        "print(np.sum(y_test)/len(y_test))"
      ],
      "metadata": {
        "colab": {
          "base_uri": "https://localhost:8080/"
        },
        "id": "8ApTb-jYtSOm",
        "outputId": "8f1cec7e-c9fc-43d0-b6f1-0c775588f32a"
      },
      "execution_count": 49,
      "outputs": [
        {
          "output_type": "stream",
          "name": "stdout",
          "text": [
            "0.5\n",
            "0.5\n"
          ]
        }
      ]
    },
    {
      "cell_type": "code",
      "source": [
        "# Merge the two datasets and divide: 60% for training, 20% validation, 20% test\n",
        "x_, y_ = np.concatenate((x_train, x_test)), np.concatenate((y_train, y_test))\n",
        "print(x_.shape, y_.shape)\n",
        "x_train, x_test, y_train, y_test = train_test_split(x_, y_, test_size=0.4, random_state=10)  # 60/40 split\n",
        "x_val, x_test, y_val, y_test = train_test_split(x_test, y_test, test_size=0.5, random_state=10)  # 50/50 split\n",
        "print(len(x_train), 'train sequences', x_train.shape)\n",
        "print(len(x_val), 'validation sequences', x_val.shape)\n",
        "print(len(x_test), 'test sequences', x_test.shape)"
      ],
      "metadata": {
        "colab": {
          "base_uri": "https://localhost:8080/"
        },
        "id": "Z53Fbicqr8tm",
        "outputId": "97756722-ecf5-4e74-9c52-2d5daef12533"
      },
      "execution_count": 50,
      "outputs": [
        {
          "output_type": "stream",
          "name": "stdout",
          "text": [
            "(50000,) (50000,)\n",
            "30000 train sequences (30000,)\n",
            "10000 validation sequences (10000,)\n",
            "10000 test sequences (10000,)\n"
          ]
        }
      ]
    },
    {
      "cell_type": "code",
      "source": [
        "x_train[0][:10]  # numbers!!"
      ],
      "metadata": {
        "colab": {
          "base_uri": "https://localhost:8080/"
        },
        "id": "5v_Hy-r8o8pR",
        "outputId": "86914003-5cdc-4ef8-a2bc-8f9b2484da6c"
      },
      "execution_count": 51,
      "outputs": [
        {
          "output_type": "execute_result",
          "data": {
            "text/plain": [
              "[1, 11531, 186, 8, 28, 6, 6482, 7, 269, 4042]"
            ]
          },
          "metadata": {},
          "execution_count": 51
        }
      ]
    },
    {
      "cell_type": "code",
      "source": [
        "# We can explore what one of the reviews looks like at this point.\n",
        "\n",
        "# Retrieve the word index file that maps words to indices\n",
        "word_index = keras.datasets.imdb.get_word_index()\n",
        "# Reverse the word index to obtain a dict mapping indices to words (which is what we have)\n",
        "inverted_word_index = dict((i, word) for (word, i) in word_index.items())\n",
        "# Decode the first sequence in the dataset\n",
        "decoded_sequence = \" \".join(inverted_word_index[i] for i in x_train[0])\n",
        "decoded_sequence"
      ],
      "metadata": {
        "colab": {
          "base_uri": "https://localhost:8080/",
          "height": 105
        },
        "id": "rgEgNSLBpFwh",
        "outputId": "2d5d8b75-c1f0-4abe-949f-1101426c07a5"
      },
      "execution_count": 52,
      "outputs": [
        {
          "output_type": "stream",
          "name": "stdout",
          "text": [
            "Downloading data from https://storage.googleapis.com/tensorflow/tf-keras-datasets/imdb_word_index.json\n",
            "1646592/1641221 [==============================] - 0s 0us/step\n",
            "1654784/1641221 [==============================] - 0s 0us/step\n"
          ]
        },
        {
          "output_type": "execute_result",
          "data": {
            "text/plain": [
              "\"the lilly horror in one is fatale br looks meaningless in bronson be showing as you debut film ample to and ingredients zombi ample they for series and thought she's all manipulate and believing in j show look early last quote desire tight interesting that's kind out is far shelter but of frame br and\""
            ],
            "application/vnd.google.colaboratory.intrinsic+json": {
              "type": "string"
            }
          },
          "metadata": {},
          "execution_count": 52
        }
      ]
    },
    {
      "cell_type": "code",
      "source": [
        "# Let's ensure all sequences have the same length through padding\n",
        "# - shorter reviews are padded with 0's\n",
        "# - longer reviews are cut\n",
        "print('Pad sequences')\n",
        "x_train = keras.preprocessing.sequence.pad_sequences(x_train, maxlen=maxlen)\n",
        "x_val = keras.preprocessing.sequence.pad_sequences(x_val, maxlen=maxlen)\n",
        "x_test = keras.preprocessing.sequence.pad_sequences(x_test, maxlen=maxlen)\n",
        "print('x_train shape:', x_train.shape)\n",
        "print('x_val shape:', x_val.shape)\n",
        "print('x_test shape:', x_test.shape)"
      ],
      "metadata": {
        "colab": {
          "base_uri": "https://localhost:8080/"
        },
        "id": "ibmO0V-gcthG",
        "outputId": "7f73b3e4-9fed-4f69-a7b9-d34d20ab428a"
      },
      "execution_count": 53,
      "outputs": [
        {
          "output_type": "stream",
          "name": "stdout",
          "text": [
            "Pad sequences\n",
            "x_train shape: (30000, 500)\n",
            "x_val shape: (10000, 500)\n",
            "x_test shape: (10000, 500)\n"
          ]
        }
      ]
    },
    {
      "cell_type": "code",
      "source": [
        "# Basic feedforward model\n",
        "model = models.Sequential()\n",
        "model.add(layers.Embedding(max_features, 128, input_length=maxlen))\n",
        "model.add(layers.Dense(64, activation='relu'))\n",
        "model.add(layers.Dropout(0.5))\n",
        "model.add(layers.Dense(64, activation='relu'))\n",
        "model.add(layers.Dropout(0.5))\n",
        "model.add(layers.Flatten())\n",
        "model.add(layers.Dense(1, activation=\"sigmoid\"))\n",
        "model.summary()"
      ],
      "metadata": {
        "colab": {
          "base_uri": "https://localhost:8080/"
        },
        "id": "sBpQpwBAk44H",
        "outputId": "0256d7fd-de9e-4eb9-f164-66b6adbb6b9f"
      },
      "execution_count": 54,
      "outputs": [
        {
          "output_type": "stream",
          "name": "stdout",
          "text": [
            "Model: \"sequential_7\"\n",
            "_________________________________________________________________\n",
            " Layer (type)                Output Shape              Param #   \n",
            "=================================================================\n",
            " embedding (Embedding)       (None, 500, 128)          1920000   \n",
            "                                                                 \n",
            " dense_7 (Dense)             (None, 500, 64)           8256      \n",
            "                                                                 \n",
            " dropout_2 (Dropout)         (None, 500, 64)           0         \n",
            "                                                                 \n",
            " dense_8 (Dense)             (None, 500, 64)           4160      \n",
            "                                                                 \n",
            " dropout_3 (Dropout)         (None, 500, 64)           0         \n",
            "                                                                 \n",
            " flatten_1 (Flatten)         (None, 32000)             0         \n",
            "                                                                 \n",
            " dense_9 (Dense)             (None, 1)                 32001     \n",
            "                                                                 \n",
            "=================================================================\n",
            "Total params: 1,964,417\n",
            "Trainable params: 1,964,417\n",
            "Non-trainable params: 0\n",
            "_________________________________________________________________\n"
          ]
        }
      ]
    },
    {
      "cell_type": "code",
      "source": [
        "model.compile(optimizer=\"rmsprop\", loss=\"binary_crossentropy\", metrics=[\"accuracy\"])\n",
        "history = model.fit(x_train, y_train, batch_size=batch_size, epochs=20, validation_data=(x_val, y_val))"
      ],
      "metadata": {
        "colab": {
          "base_uri": "https://localhost:8080/"
        },
        "id": "-8c7tCS5vrC3",
        "outputId": "fb67886e-1b3f-49e3-a9cb-ae253a7cd8d2"
      },
      "execution_count": 57,
      "outputs": [
        {
          "output_type": "stream",
          "name": "stdout",
          "text": [
            "Epoch 1/20\n",
            "938/938 [==============================] - 85s 90ms/step - loss: 0.1806 - accuracy: 0.9320 - val_loss: 0.4626 - val_accuracy: 0.8270\n",
            "Epoch 2/20\n",
            "938/938 [==============================] - 84s 90ms/step - loss: 0.1708 - accuracy: 0.9370 - val_loss: 0.2633 - val_accuracy: 0.8972\n",
            "Epoch 3/20\n",
            "938/938 [==============================] - 84s 89ms/step - loss: 0.1645 - accuracy: 0.9377 - val_loss: 0.2663 - val_accuracy: 0.8951\n",
            "Epoch 4/20\n",
            "938/938 [==============================] - 84s 90ms/step - loss: 0.1548 - accuracy: 0.9414 - val_loss: 0.2699 - val_accuracy: 0.8970\n",
            "Epoch 5/20\n",
            "938/938 [==============================] - 85s 91ms/step - loss: 0.1509 - accuracy: 0.9439 - val_loss: 0.2760 - val_accuracy: 0.8933\n",
            "Epoch 6/20\n",
            "938/938 [==============================] - 85s 91ms/step - loss: 0.1457 - accuracy: 0.9459 - val_loss: 0.4427 - val_accuracy: 0.8337\n",
            "Epoch 7/20\n",
            "938/938 [==============================] - 84s 89ms/step - loss: 0.1392 - accuracy: 0.9471 - val_loss: 0.3148 - val_accuracy: 0.8777\n",
            "Epoch 8/20\n",
            "938/938 [==============================] - 84s 89ms/step - loss: 0.1326 - accuracy: 0.9507 - val_loss: 0.2897 - val_accuracy: 0.8935\n",
            "Epoch 9/20\n",
            "938/938 [==============================] - 85s 90ms/step - loss: 0.1282 - accuracy: 0.9535 - val_loss: 0.6364 - val_accuracy: 0.7998\n",
            "Epoch 10/20\n",
            "938/938 [==============================] - 83s 89ms/step - loss: 0.1250 - accuracy: 0.9535 - val_loss: 0.3216 - val_accuracy: 0.8816\n",
            "Epoch 11/20\n",
            "938/938 [==============================] - 83s 89ms/step - loss: 0.1168 - accuracy: 0.9569 - val_loss: 0.3164 - val_accuracy: 0.8885\n",
            "Epoch 12/20\n",
            "938/938 [==============================] - 84s 90ms/step - loss: 0.1135 - accuracy: 0.9585 - val_loss: 0.3659 - val_accuracy: 0.8736\n",
            "Epoch 13/20\n",
            "938/938 [==============================] - 84s 89ms/step - loss: 0.1085 - accuracy: 0.9592 - val_loss: 0.3539 - val_accuracy: 0.8781\n",
            "Epoch 14/20\n",
            "938/938 [==============================] - 84s 90ms/step - loss: 0.1062 - accuracy: 0.9627 - val_loss: 0.4399 - val_accuracy: 0.8560\n",
            "Epoch 15/20\n",
            "938/938 [==============================] - 84s 89ms/step - loss: 0.0995 - accuracy: 0.9639 - val_loss: 0.3627 - val_accuracy: 0.8840\n",
            "Epoch 16/20\n",
            "938/938 [==============================] - 84s 90ms/step - loss: 0.0971 - accuracy: 0.9652 - val_loss: 0.3955 - val_accuracy: 0.8756\n",
            "Epoch 17/20\n",
            "938/938 [==============================] - 84s 90ms/step - loss: 0.0917 - accuracy: 0.9679 - val_loss: 0.6442 - val_accuracy: 0.8355\n",
            "Epoch 18/20\n",
            "938/938 [==============================] - 85s 91ms/step - loss: 0.0919 - accuracy: 0.9675 - val_loss: 0.4333 - val_accuracy: 0.8706\n",
            "Epoch 19/20\n",
            "938/938 [==============================] - 84s 90ms/step - loss: 0.0889 - accuracy: 0.9687 - val_loss: 0.4510 - val_accuracy: 0.8690\n",
            "Epoch 20/20\n",
            "938/938 [==============================] - 84s 89ms/step - loss: 0.0850 - accuracy: 0.9693 - val_loss: 0.5005 - val_accuracy: 0.8609\n"
          ]
        }
      ]
    },
    {
      "cell_type": "code",
      "source": [
        "plot_hist_classif(history)\n",
        "print('Test Accuracy = %.2f' % model.evaluate(x_test, y_test)[1])  # overfitting!"
      ],
      "metadata": {
        "colab": {
          "base_uri": "https://localhost:8080/",
          "height": 318
        },
        "id": "dKBVw5mHv_oX",
        "outputId": "69aa843c-8bbe-4de7-e79b-9f558d924392"
      },
      "execution_count": 58,
      "outputs": [
        {
          "output_type": "display_data",
          "data": {
            "text/plain": [
              "<Figure size 432x288 with 1 Axes>"
            ],
            "image/png": "[encoded data removed]"
          },
          "metadata": {
            "needs_background": "light"
          }
        },
        {
          "output_type": "stream",
          "name": "stdout",
          "text": [
            "313/313 [==============================] - 9s 30ms/step - loss: 0.4871 - accuracy: 0.8603\n",
            "Test Accuracy = 0.86\n"
          ]
        }
      ]
    },
    {
      "cell_type": "code",
      "source": [
        "# Let's try an RNN\n",
        "model = models.Sequential()\n",
        "model.add(layers.Embedding(max_features, 64))\n",
        "model.add(layers.LSTM(128, return_sequences=False))\n",
        "model.add(layers.Dropout(0.5))\n",
        "model.add(layers.Dense(1, activation=\"sigmoid\"))\n",
        "model.compile(optimizer=\"rmsprop\", loss=\"binary_crossentropy\", metrics=[\"accuracy\"])\n",
        "model.summary()"
      ],
      "metadata": {
        "colab": {
          "base_uri": "https://localhost:8080/"
        },
        "id": "Ieh7Wl9Pwh8V",
        "outputId": "3177bddd-b58c-47db-c554-d23ebfa57ecb"
      },
      "execution_count": 59,
      "outputs": [
        {
          "output_type": "stream",
          "name": "stdout",
          "text": [
            "Model: \"sequential_8\"\n",
            "_________________________________________________________________\n",
            " Layer (type)                Output Shape              Param #   \n",
            "=================================================================\n",
            " embedding_1 (Embedding)     (None, None, 64)          960000    \n",
            "                                                                 \n",
            " lstm_5 (LSTM)               (None, 128)               98816     \n",
            "                                                                 \n",
            " dropout_4 (Dropout)         (None, 128)               0         \n",
            "                                                                 \n",
            " dense_10 (Dense)            (None, 1)                 129       \n",
            "                                                                 \n",
            "=================================================================\n",
            "Total params: 1,058,945\n",
            "Trainable params: 1,058,945\n",
            "Non-trainable params: 0\n",
            "_________________________________________________________________\n"
          ]
        }
      ]
    },
    {
      "cell_type": "code",
      "source": [
        "# This model will take a long time to train, so we add an early stopping criterion\n",
        "# N.B: It's actually much faster to train WITHOUT A GPU!!\n",
        "callbacks = [EarlyStopping(monitor='val_accuracy', patience=2)]\n",
        "history = model.fit(x_train, y_train, batch_size=batch_size, epochs=20, validation_data=(x_val, y_val), callbacks=callbacks)\n",
        "plot_hist_classif(history)\n",
        "print('Test Accuracy = %.2f' % model.evaluate(x_test, y_test)[1])\n",
        "# Note that we're still overfitting, but this is just an example of use"
      ],
      "metadata": {
        "colab": {
          "base_uri": "https://localhost:8080/",
          "height": 422
        },
        "id": "Sd54xZMmxKBQ",
        "outputId": "50e70773-cf6d-4eb2-dae2-0f6e63b2b6d8"
      },
      "execution_count": 60,
      "outputs": [
        {
          "output_type": "stream",
          "name": "stdout",
          "text": [
            "Epoch 1/20\n",
            "938/938 [==============================] - 621s 657ms/step - loss: 0.4282 - accuracy: 0.8112 - val_loss: 0.3174 - val_accuracy: 0.8816\n",
            "Epoch 2/20\n",
            "938/938 [==============================] - 602s 642ms/step - loss: 0.2851 - accuracy: 0.8910 - val_loss: 0.3132 - val_accuracy: 0.8682\n",
            "Epoch 3/20\n",
            "938/938 [==============================] - 610s 650ms/step - loss: 0.2432 - accuracy: 0.9089 - val_loss: 0.3262 - val_accuracy: 0.8585\n"
          ]
        },
        {
          "output_type": "display_data",
          "data": {
            "text/plain": [
              "<Figure size 432x288 with 1 Axes>"
            ],
            "image/png": "[encoded data removed]"
          },
          "metadata": {
            "needs_background": "light"
          }
        },
        {
          "output_type": "stream",
          "name": "stdout",
          "text": [
            "313/313 [==============================] - 47s 150ms/step - loss: 0.3163 - accuracy: 0.8596\n",
            "Test Accuracy = 0.86\n"
          ]
        }
      ]
    },
    {
      "cell_type": "markdown",
      "source": [
        "## Your turn!\n",
        "\n",
        "Implement a bidirectional RNN that can outperform the LSTM model we had above.\n",
        "\n",
        "A starting skeleton could be:\n",
        " \n",
        "*   Embedding layer with an output dimension of 64\n",
        "*   Bidirectional layer with a 32-neuron LSTM layer\n",
        "*   Dense layer with 1 neuron and a sigmoid activation\n",
        "\n",
        "Some suggestions:\n",
        "\n",
        "- Change the sizes of the layers (i.e., the numbers of neurons)\n",
        "- Add dropout\n",
        "- Add other recurrent and/or bidirectional layers\n",
        "\n",
        "Once you have a model that scores over 90% on the validation set, check its performance on the test set and upload it on the code checker in Moodle.\n",
        "\n",
        "Note that the model I'm suggesting above will be able to reach the desired performance, but it will show signs of overfitting. Can you do it by adding regularization (dropout, smaller network) so you don't overfit?\n"
      ],
      "metadata": {
        "id": "kzZhXm5gkz_g"
      }
    },
    {
      "cell_type": "code",
      "source": [
        "n_ = 15  # number of epochs. You can edit this\n",
        "\n",
        "model = models.Sequential()\n",
        "model.add(layers.Embedding(max_features, 64))\n",
        "model.add(layers.Bidirectional(layers.LSTM(10, return_sequences=True)))\n",
        "model.add(layers.Bidirectional(layers.LSTM(10)))\n",
        "model.add(layers.Dense(1))\n",
        "model.add(layers.Activation('sigmoid'))\n",
        "\n",
        "\n",
        "# I DON'T RECOMMEND THAT YOU CHANGE CODE AFTER THIS POINT\n",
        "model.compile(optimizer=\"rmsprop\", loss=\"binary_crossentropy\", metrics=[\"accuracy\"])\n",
        "\n",
        "print(model.summary())\n",
        "\n",
        "# This model will take a long time to train, so we add an early stopping criterion\n",
        "# I've also added a ModelCheckpoint that will save the best model according to val_accuracy regardless of whether we continue training\n",
        "callbacks = [EarlyStopping(monitor='val_accuracy', patience=1),\n",
        "             ModelCheckpoint(\"model.keras\", save_best_only=True, monitor=\"val_accuracy\", mode='max')]\n",
        "\n",
        "history = model.fit(x_train, y_train, batch_size=batch_size, epochs=n_, \n",
        "                    validation_data=(x_val, y_val), \n",
        "                    callbacks=callbacks)\n",
        "plot_hist_classif(history)\n",
        "model = keras.models.load_model(\"model.keras\")\n",
        "print('Test Accuracy = %.2f' % model.evaluate(x_test, y_test)[1])"
      ],
      "metadata": {
        "id": "jCHOC7dyadaj",
        "outputId": "ef7b197c-d4f9-4e0b-965e-167f57c60d42",
        "colab": {
          "base_uri": "https://localhost:8080/",
          "height": 839
        }
      },
      "execution_count": 61,
      "outputs": [
        {
          "output_type": "stream",
          "name": "stdout",
          "text": [
            "Model: \"sequential_9\"\n",
            "_________________________________________________________________\n",
            " Layer (type)                Output Shape              Param #   \n",
            "=================================================================\n",
            " embedding_2 (Embedding)     (None, None, 64)          960000    \n",
            "                                                                 \n",
            " bidirectional (Bidirectiona  (None, None, 20)         6000      \n",
            " l)                                                              \n",
            "                                                                 \n",
            " bidirectional_1 (Bidirectio  (None, 20)               2480      \n",
            " nal)                                                            \n",
            "                                                                 \n",
            " dense_11 (Dense)            (None, 1)                 21        \n",
            "                                                                 \n",
            " activation (Activation)     (None, 1)                 0         \n",
            "                                                                 \n",
            "=================================================================\n",
            "Total params: 968,501\n",
            "Trainable params: 968,501\n",
            "Non-trainable params: 0\n",
            "_________________________________________________________________\n",
            "None\n",
            "Epoch 1/15\n",
            "938/938 [==============================] - 622s 654ms/step - loss: 0.4043 - accuracy: 0.8258 - val_loss: 0.3498 - val_accuracy: 0.8617\n",
            "Epoch 2/15\n",
            "938/938 [==============================] - 619s 660ms/step - loss: 0.2557 - accuracy: 0.9033 - val_loss: 0.2649 - val_accuracy: 0.8940\n",
            "Epoch 3/15\n",
            "938/938 [==============================] - 627s 669ms/step - loss: 0.2059 - accuracy: 0.9238 - val_loss: 0.2784 - val_accuracy: 0.8956\n",
            "Epoch 4/15\n",
            "938/938 [==============================] - 630s 672ms/step - loss: 0.1786 - accuracy: 0.9348 - val_loss: 0.2789 - val_accuracy: 0.8929\n"
          ]
        },
        {
          "output_type": "display_data",
          "data": {
            "text/plain": [
              "<Figure size 432x288 with 1 Axes>"
            ],
            "image/png": "[encoded data removed]"
          },
          "metadata": {
            "needs_background": "light"
          }
        },
        {
          "output_type": "stream",
          "name": "stdout",
          "text": [
            "313/313 [==============================] - 35s 105ms/step - loss: 0.2672 - accuracy: 0.8983\n",
            "Test Accuracy = 0.90\n"
          ]
        }
      ]
    },
    {
      "cell_type": "code",
      "source": [
        "if model.count_params() > 1000000:\n",
        "    print(\"Due to memory constraints on Moodle, the lab quiz has a 10MB limit on your model size, so you need to use a smaller model to validate through the auto-marker.\")\n",
        "\n",
        "if history.history[\"val_accuracy\"][-1] >= 0.85:\n",
        "    print(\"Your model is accurate enough!\")\n",
        "\n",
        "else:\n",
        "    print(\"Accuracy is below the threshold!\")\n",
        "    raise Exception(\"Your model isn't accurate enough to pass the progress checker!\")\n",
        "# Save the model into a local folder\n",
        "keras.models.save_model(model, \"Model.h5\",save_format='h5')\n",
        "print('Model saved! You can now upload it to the lab quiz.')"
      ],
      "metadata": {
        "id": "ZFBmg66_CR7y",
        "outputId": "3044c523-cccc-4497-8b8d-cba343828cf0",
        "colab": {
          "base_uri": "https://localhost:8080/"
        }
      },
      "execution_count": 62,
      "outputs": [
        {
          "output_type": "stream",
          "name": "stdout",
          "text": [
            "Your model is accurate enough!\n",
            "Model saved! You can now upload it to the lab quiz.\n"
          ]
        }
      ]
    },
    {
      "cell_type": "code",
      "source": [
        ""
      ],
      "metadata": {
        "id": "hv7PyBQQsXav"
      },
      "execution_count": null,
      "outputs": []
    }
  ],
  "metadata": {
    "kernelspec": {
      "display_name": "Python 3",
      "language": "python",
      "name": "python3"
    },
    "language_info": {
      "codemirror_mode": {
        "name": "ipython",
        "version": 3
      },
      "file_extension": ".py",
      "mimetype": "text/x-python",
      "name": "python",
      "nbconvert_exporter": "python",
      "pygments_lexer": "ipython3",
      "version": "3.7.10"
    },
    "colab": {
      "name": "rnn.ipynb",
      "provenance": [],
      "collapsed_sections": [
        "WlhjIvZR_a0Q",
        "rloJamyvWPWj",
        "7c-duA1Z_a0R",
        "3ozUAZX__a0R"
      ],
      "include_colab_link": true
    }
  },
  "nbformat": 4,
  "nbformat_minor": 0
}